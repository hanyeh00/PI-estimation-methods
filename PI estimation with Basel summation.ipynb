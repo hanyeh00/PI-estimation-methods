{
 "cells": [
  {
   "cell_type": "markdown",
   "metadata": {},
   "source": [
    "# The Basel Problem for PI estimation"
   ]
  },
  {
   "cell_type": "markdown",
   "metadata": {},
   "source": [
    "The Basel problem asks for the sum of reciprocals of squares of natural numbers\n",
    "<br><div style=\"padding-top:10px; padding-bottom:10px\"><center><font size=\"5\"> $\\sum_{1}^{\\infty}\\frac{1}{n^2}=1+\\frac{1}{2^2}+\\frac{1}{3^2}+...$</font></center></div>\n",
    "It has proven that this summation is <font size=\"4\">$\\frac{\\pi^2}{6}$</font>\n",
    "<br>Instagram: @ostad.ai\n",
    "<br>GitHub: https://github.com/ostad-ai/PI-estimation-methods\n",
    "<br>www.linkedin.com/in/dr-hamed-shah-hosseini"
   ]
  },
  {
   "cell_type": "markdown",
   "metadata": {},
   "source": [
    "First, we import the necessary libraries"
   ]
  },
  {
   "cell_type": "code",
   "execution_count": 1,
   "metadata": {
    "collapsed": true
   },
   "outputs": [],
   "source": [
    "import numpy as np"
   ]
  },
  {
   "cell_type": "markdown",
   "metadata": {},
   "source": [
    "Then, we implement the Basel summation with $n$=nFinal"
   ]
  },
  {
   "cell_type": "code",
   "execution_count": 8,
   "metadata": {
    "collapsed": true
   },
   "outputs": [],
   "source": [
    "def Basel(nFinal=10000000):\n",
    "    ns=np.arange(1,nFinal+.01,1)\n",
    "    return np.sum(1./ns**2)"
   ]
  },
  {
   "cell_type": "markdown",
   "metadata": {},
   "source": [
    " Now, we estimate PI by using the Basel summation as:"
   ]
  },
  {
   "cell_type": "code",
   "execution_count": 9,
   "metadata": {},
   "outputs": [
    {
     "name": "stdout",
     "output_type": "stream",
     "text": [
      "The PI is: 3.1415925581\n"
     ]
    }
   ],
   "source": [
    "print('The PI is:',np.sqrt(6*Basel()))"
   ]
  }
 ],
 "metadata": {
  "kernelspec": {
   "display_name": "Python 3",
   "language": "python",
   "name": "python3"
  },
  "language_info": {
   "codemirror_mode": {
    "name": "ipython",
    "version": 3
   },
   "file_extension": ".py",
   "mimetype": "text/x-python",
   "name": "python",
   "nbconvert_exporter": "python",
   "pygments_lexer": "ipython3",
   "version": "3.5.6"
  }
 },
 "nbformat": 4,
 "nbformat_minor": 2
}
